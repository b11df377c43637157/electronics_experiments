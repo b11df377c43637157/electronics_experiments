{
 "cells": [
  {
   "cell_type": "markdown",
   "metadata": {},
   "source": [
    "# INA-190-Q1 ranges calculation"
   ]
  },
  {
   "cell_type": "code",
   "execution_count": 42,
   "metadata": {},
   "outputs": [],
   "source": [
    "# Constants\n",
    "max_r = 1000\n",
    "adc_resolution = 12\n",
    "adc_swing = 3.3\n",
    "adc_step = adc_swing / 2**adc_resolution\n",
    "\n",
    "ina_gain = 50"
   ]
  },
  {
   "cell_type": "code",
   "execution_count": 43,
   "metadata": {},
   "outputs": [],
   "source": [
    "def to_si(nr, unit):\n",
    "    \"\"\"\n",
    "    Convert a number to a SI representation\n",
    "    to_si(0.001, \"A\") => \"1 mA\"\n",
    "    \"\"\"\n",
    "    tmp = nr\n",
    "    decades = 0\n",
    "    if nr < 1.0:\n",
    "        while tmp < 1.0:\n",
    "            decades += 1\n",
    "            tmp *= 1000\n",
    "        prefixes = [\"\", \"m\", \"μ\", \"n\"]\n",
    "        assert decades < len(prefixes)\n",
    "        return f\"{tmp:.3f} {prefixes[decades]}{unit}\"\n",
    "    else:\n",
    "        while tmp >= 1000.0:\n",
    "            decades += 1\n",
    "            tmp /= 1000.0\n",
    "        prefixes = [\"\", \"k\", \"M\", \"G\"]\n",
    "        assert decades < len(prefixes)\n",
    "        return f\"{tmp:.3f} {prefixes[decades]}{unit}\""
   ]
  },
  {
   "cell_type": "code",
   "execution_count": 44,
   "metadata": {},
   "outputs": [],
   "source": [
    "def calc_r_sense(i_max, max_drop):\n",
    "    \"\"\"\n",
    "    i_min: min current to be detected (A)\n",
    "    i_max: max current to be detected (A)\n",
    "    max_drop: max voltage drop accross the resistor (V)\n",
    "    \"\"\"\n",
    "    \n",
    "    # From datasheet:\n",
    "    # r_sense < v_sp / (i_max * gain)\n",
    "    # v_out_min = i_min * r_sense * gain\n",
    "    v_sp = adc_swing - (40 / 1000) # pick worst case from datasheet\n",
    "    r_sense = min(min(v_sp / (i_max * ina_gain), max_r), max_drop / i_max)\n",
    "    \n",
    "    return r_sense"
   ]
  },
  {
   "cell_type": "code",
   "execution_count": 45,
   "metadata": {},
   "outputs": [],
   "source": [
    "def error_analysis(current, r_sense):\n",
    "    # Code from the website of TI\n",
    "    import math\n",
    "\n",
    "    # user chosen\n",
    "    temp = 25\n",
    "    cmrr_user_voltage = 3.3 \n",
    "    supply_voltage = 3.3\n",
    "    psrr = 1\n",
    "    #current = 0.01\n",
    "    #r_sense = 100e-3\n",
    "\n",
    "    # see datasheet \n",
    "    DEFAULT_TEMP = 25.0\n",
    "    CMRR = 132\n",
    "    gain_error = 0.002\n",
    "    v_os_max = 15e-6\n",
    "    v_drift = 0.01e-6\n",
    "    v_os_temp_err = v_os_max + v_drift * abs(temp - DEFAULT_TEMP)\n",
    "\n",
    "    cmrr_specified = 12.0\n",
    "    voltage_specified = 1.8\n",
    "    CMRR_temp_err = abs( 1 / 10**(CMRR / 20) * (cmrr_user_voltage - cmrr_specified))\n",
    "    psrr_err = psrr / 1e6 * abs(supply_voltage - voltage_specified)\n",
    "    v_shunt = current * r_sense\n",
    "\n",
    "    total_error = math.sqrt( ((v_os_max + CMRR_temp_err + psrr_err)/(v_shunt))**2 +\n",
    "                              gain_error**2)\n",
    "\n",
    "    return total_error * 100"
   ]
  },
  {
   "cell_type": "code",
   "execution_count": 46,
   "metadata": {},
   "outputs": [],
   "source": [
    "def info_for_range(i_min, i_max, r_sense, r_tolerance):\n",
    "    \"\"\"\n",
    "    Print some stats about the returned params\n",
    "    \"\"\"\n",
    "    v_out_min = i_min * r_sense * ina_gain\n",
    "    v_out_max = i_max * r_sense * ina_gain\n",
    "    v_drop_min = i_min * r_sense\n",
    "    v_drop_max = i_max * r_sense\n",
    "    steps_v_min = v_out_min / adc_step\n",
    "    error_min = error_analysis(i_min, r_sense)\n",
    "    error_max = error_analysis(i_max, r_sense)\n",
    "    \n",
    "    def calc_tolerance_error(i, r_sense, tolerance):\n",
    "        valb = i * (r_sense) * ina_gain\n",
    "        val1 = i * (r_sense + r_sense * r_tolerance) * ina_gain\n",
    "        val2 = i * (r_sense * (1.0 - r_tolerance)) * ina_gain\n",
    "        print(\"With tolerance {}: {}, {} ({}, {})\".format(tolerance,\n",
    "                                                          valb / val1,\n",
    "                                                          valb / val2,\n",
    "                                                          val1, val2))\n",
    "            \n",
    "    print(\"Range: [{}, {}], resistor: {}\".format(\n",
    "                to_si(i_min, \"A\"),\n",
    "                to_si(i_max, \"A\"),\n",
    "                to_si(r_sense, \"Ohm\")))\n",
    "    print(\"Vdrop swing: [{}, {}]\".format(\n",
    "                to_si(v_drop_min, \"V\"),\n",
    "                to_si(v_drop_max, \"V\")))\n",
    "    print(\"Vout swing: [{}, {}]\".format(\n",
    "                to_si(v_out_min, \"V\"),\n",
    "                to_si(v_out_max, \"V\")))\n",
    "    print(\"Steps for v_out_min: {}\".format(steps_v_min))\n",
    "    print(\"Error range: [{:},{}]%\".format(\n",
    "                error_min,\n",
    "                error_max))\n",
    "    calc_tolerance_error(i_min, r_sense, r_tolerance)\n",
    "    calc_tolerance_error(i_max, r_sense, r_tolerance)\n",
    "    "
   ]
  },
  {
   "cell_type": "code",
   "execution_count": 47,
   "metadata": {},
   "outputs": [],
   "source": [
    "def calc_range(i_min, i_max, tolerance=0.05):\n",
    "    r_sense = calc_r_sense(i_max, 50e-3)\n",
    "    info_for_range(i_min, i_max, r_sense, tolerance)"
   ]
  },
  {
   "cell_type": "code",
   "execution_count": 48,
   "metadata": {
    "scrolled": false
   },
   "outputs": [
    {
     "name": "stdout",
     "output_type": "stream",
     "text": [
      "Range: [1.000 μA, 100.000 μA], resistor: 500.000 Ohm\n",
      "Vdrop swing: [500.000 μV, 50.000 mV]\n",
      "Vout swing: [25.000 mV, 2.500 V]\n",
      "Steps for v_out_min: 31.030303030303035\n",
      "Error range: [3.7424162012743087,0.20346146539911691]%\n",
      "With tolerance 0.05: 0.9523809523809524, 1.0526315789473684 (0.02625, 0.02375)\n",
      "With tolerance 0.05: 0.9523809523809522, 1.0526315789473684 (2.6250000000000004, 2.375)\n"
     ]
    }
   ],
   "source": [
    "calc_range(1e-6, 100e-6)"
   ]
  },
  {
   "cell_type": "code",
   "execution_count": 49,
   "metadata": {
    "scrolled": false
   },
   "outputs": [
    {
     "name": "stdout",
     "output_type": "stream",
     "text": [
      "Range: [100.000 μA, 10.000 mA], resistor: 5.000 Ohm\n",
      "Vdrop swing: [500.000 μV, 50.000 mV]\n",
      "Vout swing: [25.000 mV, 2.500 V]\n",
      "Steps for v_out_min: 31.030303030303035\n",
      "Error range: [3.7424162012743087,0.20346146539911691]%\n",
      "With tolerance 0.05: 0.9523809523809523, 1.0526315789473684 (0.026250000000000002, 0.02375)\n",
      "With tolerance 0.05: 0.9523809523809523, 1.0526315789473684 (2.625, 2.375)\n"
     ]
    }
   ],
   "source": [
    "calc_range(100e-6, 10e-3)"
   ]
  },
  {
   "cell_type": "code",
   "execution_count": 55,
   "metadata": {
    "scrolled": true
   },
   "outputs": [
    {
     "name": "stdout",
     "output_type": "stream",
     "text": [
      "Range: [10.000 mA, 500.000 mA], resistor: 100.000 mOhm\n",
      "Vdrop swing: [1.000 mV, 50.000 mV]\n",
      "Vout swing: [50.000 mV, 2.500 V]\n",
      "Steps for v_out_min: 62.06060606060607\n",
      "Error range: [1.8792072147291548,0.20346146539911691]%\n",
      "With tolerance 0.05: 0.9523809523809523, 1.0526315789473684 (0.052500000000000005, 0.0475)\n",
      "With tolerance 0.05: 0.9523809523809522, 1.0526315789473684 (2.6250000000000004, 2.375)\n"
     ]
    }
   ],
   "source": [
    "calc_range(10e-3, 500e-3)"
   ]
  },
  {
   "cell_type": "code",
   "execution_count": 10,
   "metadata": {},
   "outputs": [],
   "source": [
    "# ==========================="
   ]
  },
  {
   "cell_type": "code",
   "execution_count": 11,
   "metadata": {},
   "outputs": [
    {
     "name": "stdout",
     "output_type": "stream",
     "text": [
      "Range: [100.000 μA, 10.000 mA], resistor: 20.000 Ohm\n",
      "Vdrop swing: [2.000 mV, 200.000 mV]\n",
      "Vout swing: [50.000 mV, 5.000 V]\n",
      "Steps for v_out_min: 40.96\n",
      "Error range: [1.0387036820641102,0.20025955790901304]%\n"
     ]
    }
   ],
   "source": [
    "info_for_range(100e-6, 10e-3, 20)"
   ]
  },
  {
   "cell_type": "code",
   "execution_count": 12,
   "metadata": {},
   "outputs": [
    {
     "name": "stdout",
     "output_type": "stream",
     "text": [
      "Range: [1.000 mA, 300.000 mA], resistor: 660.000 mOhm\n",
      "Vdrop swing: [660.000 μV, 198.000 mV]\n",
      "Vout swing: [16.500 mV, 4.950 V]\n",
      "Steps for v_out_min: 13.5168\n",
      "Error range: [3.0951565277764983,0.20026482450138747]%\n"
     ]
    }
   ],
   "source": [
    "info_for_range(1e-3, 300e-3, 660e-3)"
   ]
  },
  {
   "cell_type": "code",
   "execution_count": null,
   "metadata": {},
   "outputs": [],
   "source": []
  },
  {
   "cell_type": "code",
   "execution_count": null,
   "metadata": {},
   "outputs": [],
   "source": []
  }
 ],
 "metadata": {
  "kernelspec": {
   "display_name": "Python 3",
   "language": "python",
   "name": "python3"
  },
  "language_info": {
   "codemirror_mode": {
    "name": "ipython",
    "version": 3
   },
   "file_extension": ".py",
   "mimetype": "text/x-python",
   "name": "python",
   "nbconvert_exporter": "python",
   "pygments_lexer": "ipython3",
   "version": "3.7.5"
  }
 },
 "nbformat": 4,
 "nbformat_minor": 2
}
