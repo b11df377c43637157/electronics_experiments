{
 "cells": [
  {
   "cell_type": "markdown",
   "metadata": {},
   "source": [
    "# INA-190-Q1 ranges calculation"
   ]
  },
  {
   "cell_type": "code",
   "execution_count": 33,
   "metadata": {},
   "outputs": [],
   "source": [
    "# Constants\n",
    "max_r = 1000\n",
    "adc_resolution = 12\n",
    "adc_swing = 5\n",
    "adc_step = adc_swing / 2**adc_resolution\n",
    "\n",
    "ina_gain = 25"
   ]
  },
  {
   "cell_type": "code",
   "execution_count": 34,
   "metadata": {},
   "outputs": [
    {
     "data": {
      "text/plain": [
       "'1.220703125 mV'"
      ]
     },
     "execution_count": 34,
     "metadata": {},
     "output_type": "execute_result"
    }
   ],
   "source": [
    "to_si(adc_step, \"V\")"
   ]
  },
  {
   "cell_type": "code",
   "execution_count": 56,
   "metadata": {},
   "outputs": [],
   "source": [
    "def to_si(nr, unit):\n",
    "    \"\"\"\n",
    "    Convert a number to a SI representation\n",
    "    to_si(0.001, \"A\") => \"1 mA\"\n",
    "    \"\"\"\n",
    "    tmp = nr\n",
    "    decades = 0\n",
    "    if nr < 1.0:\n",
    "        while tmp < 1.0:\n",
    "            decades += 1\n",
    "            tmp *= 1000\n",
    "        prefixes = [\"\", \"m\", \"μ\", \"n\"]\n",
    "        assert decades < len(prefixes)\n",
    "        return f\"{tmp:.3f} {prefixes[decades]}{unit}\"\n",
    "    else:\n",
    "        while tmp >= 1000.0:\n",
    "            decades += 1\n",
    "            tmp /= 1000.0\n",
    "        prefixes = [\"\", \"k\", \"M\", \"G\"]\n",
    "        assert decades < len(prefixes)\n",
    "        return f\"{tmp:.3f} {prefixes[decades]}{unit}\""
   ]
  },
  {
   "cell_type": "code",
   "execution_count": 57,
   "metadata": {},
   "outputs": [],
   "source": [
    "def calc_r_sense(i_max, max_drop):\n",
    "    \"\"\"\n",
    "    i_min: min current to be detected (A)\n",
    "    i_max: max current to be detected (A)\n",
    "    max_drop: max voltage drop accross the resistor (V)\n",
    "    \"\"\"\n",
    "    \n",
    "    # From datasheet:\n",
    "    # r_sense < v_sp / (i_max * gain)\n",
    "    # v_out_min = i_min * r_sense * gain\n",
    "    v_sp = adc_swing - 40 / 1000 # pick worst case from datasheet\n",
    "    r_sense = min(v_sp / (i_max * ina_gain), max_r)\n",
    "    \n",
    "    return r_sense"
   ]
  },
  {
   "cell_type": "code",
   "execution_count": 66,
   "metadata": {},
   "outputs": [],
   "source": [
    "def info_for_range(i_min, i_max, r_sense):\n",
    "    \"\"\"\n",
    "    Print some stats about the returned params\n",
    "    \"\"\"\n",
    "    v_out_min = i_min * r_sense * ina_gain\n",
    "    v_out_max = i_max * r_sense * ina_gain\n",
    "    v_drop_min = i_min * r_sense\n",
    "    v_drop_max = i_max * r_sense\n",
    "    steps_v_min = v_out_min / adc_step\n",
    "\n",
    "    print(\"Range: [{}, {}], resistor: {}\".format(\n",
    "                to_si(i_min, \"A\"),\n",
    "                to_si(i_max, \"A\"),\n",
    "                to_si(r_sense, \"Ohm\")))\n",
    "    print(\"Vdrop swing: [{}, {}]\".format(\n",
    "                to_si(v_drop_min, \"V\"),\n",
    "                to_si(v_drop_max, \"V\")))\n",
    "    print(\"Vout swing: [{}, {}]\".format(\n",
    "                to_si(v_out_min, \"V\"),\n",
    "                to_si(v_out_max, \"V\")))\n",
    "    print(\"Steps for v_out_min: {}\".format(steps_v_min))\n",
    "    "
   ]
  },
  {
   "cell_type": "code",
   "execution_count": 67,
   "metadata": {},
   "outputs": [],
   "source": [
    "def calc_range(i_min, i_max):\n",
    "    r_sense = calc_r_sense(i_max, 0.3)\n",
    "    info_for_range(i_min, i_max, r_sense)"
   ]
  },
  {
   "cell_type": "code",
   "execution_count": 68,
   "metadata": {},
   "outputs": [
    {
     "name": "stdout",
     "output_type": "stream",
     "text": [
      "Range: [1.000 μA, 150.000 μA], resistor: 1.000 kOhm\n",
      "Vdrop swing: [1.000 mV, 150.000 mV]\n",
      "Vout swing: [25.000 mV, 3.750 V]\n",
      "Steps for v_out_min: 20.48\n"
     ]
    }
   ],
   "source": [
    "calc_range(1e-6, 150e-6)"
   ]
  },
  {
   "cell_type": "code",
   "execution_count": 69,
   "metadata": {},
   "outputs": [
    {
     "name": "stdout",
     "output_type": "stream",
     "text": [
      "Range: [1.000 mA, 300.000 mA], resistor: 661.333 mOhm\n",
      "Vdrop swing: [661.333 μV, 198.400 mV]\n",
      "Vout swing: [16.533 mV, 4.960 V]\n",
      "Steps for v_out_min: 13.544106666666668\n"
     ]
    }
   ],
   "source": [
    "calc_range(1e-3, 300e-3)"
   ]
  },
  {
   "cell_type": "code",
   "execution_count": 132,
   "metadata": {},
   "outputs": [],
   "source": [
    "def error_analysis(v_shunt):\n",
    "    v_os = 3e-6  # Offset error\n",
    "    v_cmsys = 3.3 # Common mode voltage\n",
    "    v_cmds = 12    # common-mode voltage in datasheet for v_os\n",
    "    CMRR = 3.16228e-7      # common mode rejection in V/V\n",
    "    v_supply = adc_swing \n",
    "    v_sds = 5     # datasheet supply voltage for v_os\n",
    "    e_gn = 0.002    # gain error\n",
    "    PSRR = 5e-6\n",
    "       \n",
    "    import math\n",
    "    error = math.sqrt( ((v_os / v_shunt) + \n",
    "                   (abs(v_cmsys - v_cmds)*CMRR/v_shunt) + \n",
    "                   (abs(v_supply - v_sds)*PSRR/v_shunt) )**2 \n",
    "                    + e_gn**2 )\n",
    "    \n",
    "    return error * 100"
   ]
  },
  {
   "cell_type": "code",
   "execution_count": 133,
   "metadata": {},
   "outputs": [
    {
     "data": {
      "text/plain": [
       "0.277040135080559"
      ]
     },
     "execution_count": 133,
     "metadata": {},
     "output_type": "execute_result"
    }
   ],
   "source": [
    "error_analysis(0.03 * 0.1)"
   ]
  },
  {
   "cell_type": "code",
   "execution_count": 140,
   "metadata": {},
   "outputs": [
    {
     "name": "stdout",
     "output_type": "stream",
     "text": [
      "0.16015907611725447\n"
     ]
    },
    {
     "ename": "NameError",
     "evalue": "name 'Math' is not defined",
     "output_type": "error",
     "traceback": [
      "\u001b[0;31m---------------------------------------------------------------------------\u001b[0m",
      "\u001b[0;31mNameError\u001b[0m                                 Traceback (most recent call last)",
      "\u001b[0;32m<ipython-input-140-212c670f89b3>\u001b[0m in \u001b[0;36m<module>\u001b[0;34m()\u001b[0m\n\u001b[1;32m     40\u001b[0m \u001b[0;31m#p = t.psrr / 1000000 * Math.abs(t.supplyVoltage.defaultMin - t.specifiedSupplyVoltage),\u001b[0m\u001b[0;34m\u001b[0m\u001b[0;34m\u001b[0m\u001b[0;34m\u001b[0m\u001b[0m\n\u001b[1;32m     41\u001b[0m \u001b[0;31m#o = e * t.idealShuntRes.defaultMin * 1000,\u001b[0m\u001b[0;34m\u001b[0m\u001b[0;34m\u001b[0m\u001b[0;34m\u001b[0m\u001b[0m\n\u001b[0;32m---> 42\u001b[0;31m \u001b[0mu\u001b[0m \u001b[0;34m=\u001b[0m \u001b[0mMath\u001b[0m\u001b[0;34m.\u001b[0m\u001b[0msqrt\u001b[0m\u001b[0;34m(\u001b[0m\u001b[0mMath\u001b[0m\u001b[0;34m.\u001b[0m\u001b[0mpow\u001b[0m\u001b[0;34m(\u001b[0m\u001b[0;34m(\u001b[0m\u001b[0mr\u001b[0m \u001b[0;34m+\u001b[0m \u001b[0ml\u001b[0m \u001b[0;34m+\u001b[0m \u001b[0mp\u001b[0m\u001b[0;34m)\u001b[0m \u001b[0;34m/\u001b[0m \u001b[0;34m(\u001b[0m\u001b[0mo\u001b[0m \u001b[0;34m/\u001b[0m \u001b[0;36m1000000\u001b[0m\u001b[0;34m)\u001b[0m\u001b[0;34m,\u001b[0m \u001b[0;36m2\u001b[0m\u001b[0;34m)\u001b[0m \u001b[0;34m+\u001b[0m \u001b[0mMath\u001b[0m\u001b[0;34m.\u001b[0m\u001b[0mpow\u001b[0m\u001b[0;34m(\u001b[0m\u001b[0mi\u001b[0m\u001b[0;34m,\u001b[0m \u001b[0;36m2\u001b[0m\u001b[0;34m)\u001b[0m\u001b[0;34m)\u001b[0m\u001b[0;34m,\u001b[0m\u001b[0;34m\u001b[0m\u001b[0;34m\u001b[0m\u001b[0m\n\u001b[0m\u001b[1;32m     43\u001b[0m \u001b[0mc\u001b[0m \u001b[0;34m=\u001b[0m \u001b[0mi\u001b[0m \u001b[0;34m+\u001b[0m \u001b[0mt\u001b[0m\u001b[0;34m.\u001b[0m\u001b[0mgainErrorDrift\u001b[0m \u001b[0;34m/\u001b[0m \u001b[0;36m1000000\u001b[0m \u001b[0;34m*\u001b[0m \u001b[0mMath\u001b[0m\u001b[0;34m.\u001b[0m\u001b[0mabs\u001b[0m\u001b[0;34m(\u001b[0m\u001b[0mt\u001b[0m\u001b[0;34m.\u001b[0m\u001b[0moperatingTemp\u001b[0m\u001b[0;34m.\u001b[0m\u001b[0mdefaultMin\u001b[0m \u001b[0;34m-\u001b[0m \u001b[0;36m25\u001b[0m\u001b[0;34m)\u001b[0m\u001b[0;34m,\u001b[0m\u001b[0;34m\u001b[0m\u001b[0;34m\u001b[0m\u001b[0m\n\u001b[1;32m     44\u001b[0m \u001b[0mh\u001b[0m \u001b[0;34m=\u001b[0m \u001b[0mMath\u001b[0m\u001b[0;34m.\u001b[0m\u001b[0msqrt\u001b[0m\u001b[0;34m(\u001b[0m\u001b[0mMath\u001b[0m\u001b[0;34m.\u001b[0m\u001b[0mpow\u001b[0m\u001b[0;34m(\u001b[0m\u001b[0;34m(\u001b[0m\u001b[0ma\u001b[0m \u001b[0;34m+\u001b[0m \u001b[0ml\u001b[0m \u001b[0;34m+\u001b[0m \u001b[0mp\u001b[0m\u001b[0;34m)\u001b[0m \u001b[0;34m/\u001b[0m \u001b[0;34m(\u001b[0m\u001b[0mo\u001b[0m \u001b[0;34m/\u001b[0m \u001b[0;36m1000000\u001b[0m\u001b[0;34m)\u001b[0m\u001b[0;34m,\u001b[0m \u001b[0;36m2\u001b[0m\u001b[0;34m)\u001b[0m \u001b[0;34m+\u001b[0m \u001b[0mMath\u001b[0m\u001b[0;34m.\u001b[0m\u001b[0mpow\u001b[0m\u001b[0;34m(\u001b[0m\u001b[0mc\u001b[0m\u001b[0;34m,\u001b[0m \u001b[0;36m2\u001b[0m\u001b[0;34m)\u001b[0m\u001b[0;34m)\u001b[0m\u001b[0;34m;\u001b[0m\u001b[0;34m\u001b[0m\u001b[0;34m\u001b[0m\u001b[0m\n",
      "\u001b[0;31mNameError\u001b[0m: name 'Math' is not defined"
     ]
    }
   ],
   "source": [
    "import math\n",
    "# e = current (i)\n",
    "# t = INA default params \n",
    "# s = gain error\n",
    "# n = v_os_max\n",
    "\n",
    "# user chosen\n",
    "temp = 25\n",
    "cmrr_user_voltage = 3.3 \n",
    "supply_voltage = 5\n",
    "psrr = 1\n",
    "current = 0.001\n",
    "r_sense = 100e-3\n",
    "\n",
    "# see datasheet \n",
    "DEFAULT_TEMP = 25.0\n",
    "CMRR = 132\n",
    "gain_error = 0.002\n",
    "v_os_max = 15e-6\n",
    "v_drift = 0.01e-6\n",
    "v_os_temp_err = v_os_max + v_drift * abs(temp - DEFAULT_TEMP)\n",
    "\n",
    "cmrr_specified = 12.0\n",
    "voltage_specified = 1.8\n",
    "CMRR_temp_err = abs( 1 / 10**(CMRR / 20)) * (cmrr_user_voltage - cmrr_specified)\n",
    "psrr_err = psrr / 1e6 * abs(supply_voltage - voltage_specified)\n",
    "v_shunt = current * r_sense\n",
    "\n",
    "total_error = math.sqrt( ((v_os_max + CMRR_temp_err + psrr_err)/(v_shunt))**2 +\n",
    "                          gain_error**2)\n",
    "\n",
    "print(total_error)\n",
    "# =====================================================================\n",
    "\n",
    "#const i = s / 100, # gain_error\n",
    "#r = n / 1000000,   # v_os_max\n",
    "#a = n / 1000000 + t.vosDrift / 1000000 * Math.abs(t.operatingTemp.defaultMin - 25),\n",
    "\n",
    "#l = Math.abs(1 / Math.pow(10, t.cmrr / 20) * (t.commonModeVoltage.defaultMin - t.specifiedCommonModeVoltage)),\n",
    "#p = t.psrr / 1000000 * Math.abs(t.supplyVoltage.defaultMin - t.specifiedSupplyVoltage),\n",
    "#o = e * t.idealShuntRes.defaultMin * 1000,\n",
    "u = Math.sqrt(Math.pow((r + l + p) / (o / 1000000), 2) + Math.pow(i, 2)),\n",
    "c = i + t.gainErrorDrift / 1000000 * Math.abs(t.operatingTemp.defaultMin - 25),\n",
    "h = Math.sqrt(Math.pow((a + l + p) / (o / 1000000), 2) + Math.pow(c, 2));\n",
    "return [100 * Number(u.toPrecision(4)),\n",
    "100 * Number(h.toPrecision(4))]"
   ]
  },
  {
   "cell_type": "code",
   "execution_count": null,
   "metadata": {},
   "outputs": [],
   "source": []
  }
 ],
 "metadata": {
  "kernelspec": {
   "display_name": "Python 3",
   "language": "python",
   "name": "python3"
  },
  "language_info": {
   "codemirror_mode": {
    "name": "ipython",
    "version": 3
   },
   "file_extension": ".py",
   "mimetype": "text/x-python",
   "name": "python",
   "nbconvert_exporter": "python",
   "pygments_lexer": "ipython3",
   "version": "3.7.5"
  }
 },
 "nbformat": 4,
 "nbformat_minor": 2
}
