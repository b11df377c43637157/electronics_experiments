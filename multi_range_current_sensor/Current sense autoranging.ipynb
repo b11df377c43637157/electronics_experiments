{
 "cells": [
  {
   "cell_type": "markdown",
   "metadata": {},
   "source": [
    "# INA-190-Q1 ranges calculation"
   ]
  },
  {
   "cell_type": "code",
   "execution_count": 1,
   "metadata": {},
   "outputs": [],
   "source": [
    "# Constants\n",
    "max_r = 1000\n",
    "adc_resolution = 12\n",
    "adc_swing = 5\n",
    "adc_step = adc_swing / 2**adc_resolution\n",
    "\n",
    "ina_gain = 25"
   ]
  },
  {
   "cell_type": "code",
   "execution_count": 14,
   "metadata": {},
   "outputs": [
    {
     "data": {
      "text/plain": [
       "'1.221 mV'"
      ]
     },
     "execution_count": 14,
     "metadata": {},
     "output_type": "execute_result"
    }
   ],
   "source": [
    "to_si(adc_step, \"V\")"
   ]
  },
  {
   "cell_type": "code",
   "execution_count": 2,
   "metadata": {},
   "outputs": [],
   "source": [
    "def to_si(nr, unit):\n",
    "    \"\"\"\n",
    "    Convert a number to a SI representation\n",
    "    to_si(0.001, \"A\") => \"1 mA\"\n",
    "    \"\"\"\n",
    "    tmp = nr\n",
    "    decades = 0\n",
    "    if nr < 1.0:\n",
    "        while tmp < 1.0:\n",
    "            decades += 1\n",
    "            tmp *= 1000\n",
    "        prefixes = [\"\", \"m\", \"μ\", \"n\"]\n",
    "        assert decades < len(prefixes)\n",
    "        return f\"{tmp:.3f} {prefixes[decades]}{unit}\"\n",
    "    else:\n",
    "        while tmp >= 1000.0:\n",
    "            decades += 1\n",
    "            tmp /= 1000.0\n",
    "        prefixes = [\"\", \"k\", \"M\", \"G\"]\n",
    "        assert decades < len(prefixes)\n",
    "        return f\"{tmp:.3f} {prefixes[decades]}{unit}\""
   ]
  },
  {
   "cell_type": "code",
   "execution_count": 3,
   "metadata": {},
   "outputs": [],
   "source": [
    "def calc_r_sense(i_max, max_drop):\n",
    "    \"\"\"\n",
    "    i_min: min current to be detected (A)\n",
    "    i_max: max current to be detected (A)\n",
    "    max_drop: max voltage drop accross the resistor (V)\n",
    "    \"\"\"\n",
    "    \n",
    "    # From datasheet:\n",
    "    # r_sense < v_sp / (i_max * gain)\n",
    "    # v_out_min = i_min * r_sense * gain\n",
    "    v_sp = adc_swing - 40 / 1000 # pick worst case from datasheet\n",
    "    r_sense = min(v_sp / (i_max * ina_gain), max_r)\n",
    "    \n",
    "    return r_sense"
   ]
  },
  {
   "cell_type": "code",
   "execution_count": 4,
   "metadata": {},
   "outputs": [],
   "source": [
    "def error_analysis(current, r_sense):\n",
    "    import math\n",
    "\n",
    "    # user chosen\n",
    "    temp = 25\n",
    "    cmrr_user_voltage = 3.3 \n",
    "    supply_voltage = 5\n",
    "    psrr = 1\n",
    "    #current = 0.01\n",
    "    #r_sense = 100e-3\n",
    "\n",
    "    # see datasheet \n",
    "    DEFAULT_TEMP = 25.0\n",
    "    CMRR = 132\n",
    "    gain_error = 0.002\n",
    "    v_os_max = 15e-6\n",
    "    v_drift = 0.01e-6\n",
    "    v_os_temp_err = v_os_max + v_drift * abs(temp - DEFAULT_TEMP)\n",
    "\n",
    "    cmrr_specified = 12.0\n",
    "    voltage_specified = 1.8\n",
    "    CMRR_temp_err = abs( 1 / 10**(CMRR / 20) * (cmrr_user_voltage - cmrr_specified))\n",
    "    psrr_err = psrr / 1e6 * abs(supply_voltage - voltage_specified)\n",
    "    v_shunt = current * r_sense\n",
    "\n",
    "    total_error = math.sqrt( ((v_os_max + CMRR_temp_err + psrr_err)/(v_shunt))**2 +\n",
    "                              gain_error**2)\n",
    "\n",
    "    return total_error * 100\n",
    "    # Code from the website of TI\n",
    "\n",
    "    # e = current (i)\n",
    "    # t = INA default params \n",
    "    # s = gain error\n",
    "    # n = v_os_max\n",
    "    #const i = s / 100, # gain_error\n",
    "    #r = n / 1000000,   # v_os_max\n",
    "    #a = n / 1000000 + t.vosDrift / 1000000 * Math.abs(t.operatingTemp.defaultMin - 25),\n",
    "\n",
    "    #l = Math.abs(1 / Math.pow(10, t.cmrr / 20) * (t.commonModeVoltage.defaultMin - t.specifiedCommonModeVoltage)),\n",
    "    #p = t.psrr / 1000000 * Math.abs(t.supplyVoltage.defaultMin - t.specifiedSupplyVoltage),\n",
    "    #o = e * t.idealShuntRes.defaultMin * 1000,\n",
    "    #u = Math.sqrt(Math.pow((r + l + p) / (o / 1000000), 2) + Math.pow(i, 2)),\n",
    "    #c = i + t.gainErrorDrift / 1000000 * Math.abs(t.operatingTemp.defaultMin - 25),\n",
    "    #h = Math.sqrt(Math.pow((a + l + p) / (o / 1000000), 2) + Math.pow(c, 2));\n",
    "    #return [100 * Number(u.toPrecision(4)),\n",
    "    #100 * Number(h.toPrecision(4))]"
   ]
  },
  {
   "cell_type": "code",
   "execution_count": 36,
   "metadata": {},
   "outputs": [],
   "source": [
    "def info_for_range(i_min, i_max, r_sense, r_tolerance):\n",
    "    \"\"\"\n",
    "    Print some stats about the returned params\n",
    "    \"\"\"\n",
    "    v_out_min = i_min * r_sense * ina_gain\n",
    "    v_out_max = i_max * r_sense * ina_gain\n",
    "    v_drop_min = i_min * r_sense\n",
    "    v_drop_max = i_max * r_sense\n",
    "    steps_v_min = v_out_min / adc_step\n",
    "    error_min = error_analysis(i_min, r_sense)\n",
    "    error_max = error_analysis(i_max, r_sense)\n",
    "    \n",
    "    def calc_tolerance_error(i, r_sense, tolerance):\n",
    "        valb = i * (r_sense) * ina_gain\n",
    "        val1 = i * (r_sense + r_sense * r_tolerance) * ina_gain\n",
    "        val2 = i * (r_sense * (1.0 - r_tolerance)) * ina_gain\n",
    "        print(\"With tolerance {}: {}, {} ({}, {})\".format(tolerance,\n",
    "                                                          valb / val1,\n",
    "                                                          valb / val2,\n",
    "                                                          val1, val2))\n",
    "            \n",
    "    print(\"Range: [{}, {}], resistor: {}\".format(\n",
    "                to_si(i_min, \"A\"),\n",
    "                to_si(i_max, \"A\"),\n",
    "                to_si(r_sense, \"Ohm\")))\n",
    "    print(\"Vdrop swing: [{}, {}]\".format(\n",
    "                to_si(v_drop_min, \"V\"),\n",
    "                to_si(v_drop_max, \"V\")))\n",
    "    print(\"Vout swing: [{}, {}]\".format(\n",
    "                to_si(v_out_min, \"V\"),\n",
    "                to_si(v_out_max, \"V\")))\n",
    "    print(\"Steps for v_out_min: {}\".format(steps_v_min))\n",
    "    print(\"Error range: [{:},{}]%\".format(\n",
    "                error_min,\n",
    "                error_max))\n",
    "    calc_tolerance_error(i_min, r_sense, r_tolerance)\n",
    "    calc_tolerance_error(i_max, r_sense, r_tolerance)\n",
    "    "
   ]
  },
  {
   "cell_type": "code",
   "execution_count": 39,
   "metadata": {},
   "outputs": [],
   "source": [
    "def calc_range(i_min, i_max, tolerance=0.05):\n",
    "    r_sense = calc_r_sense(i_max, 0.3)\n",
    "    info_for_range(i_min, i_max, r_sense, tolerance)"
   ]
  },
  {
   "cell_type": "code",
   "execution_count": 40,
   "metadata": {
    "scrolled": true
   },
   "outputs": [
    {
     "name": "stdout",
     "output_type": "stream",
     "text": [
      "Range: [1.000 μA, 150.000 μA], resistor: 1.000 kOhm\n",
      "Vdrop swing: [1.000 mV, 150.000 mV]\n",
      "Vout swing: [25.000 mV, 3.750 V]\n",
      "Steps for v_out_min: 20.48\n",
      "Error range: [2.0483215949977587,0.2004612039336106]%\n",
      "With tolerance 0.05: 0.9523809523809524, 1.0526315789473684 (0.02625, 0.02375)\n",
      "With tolerance 0.05: 0.9523809523809526, 1.0526315789473686 (3.937499999999999, 3.5624999999999996)\n"
     ]
    }
   ],
   "source": [
    "calc_range(1e-6, 150e-6)"
   ]
  },
  {
   "cell_type": "code",
   "execution_count": 8,
   "metadata": {
    "scrolled": false
   },
   "outputs": [
    {
     "name": "stdout",
     "output_type": "stream",
     "text": [
      "Range: [100.000 μA, 10.000 mA], resistor: 19.840 Ohm\n",
      "Vdrop swing: [1.984 mV, 198.400 mV]\n",
      "Vout swing: [49.600 mV, 4.960 V]\n",
      "Steps for v_out_min: 40.63232000000001\n",
      "Error range: [1.04677096040437,0.20026375843960031]%\n"
     ]
    }
   ],
   "source": [
    "calc_range(100e-6, 10e-3)"
   ]
  },
  {
   "cell_type": "code",
   "execution_count": 9,
   "metadata": {
    "scrolled": true
   },
   "outputs": [
    {
     "name": "stdout",
     "output_type": "stream",
     "text": [
      "Range: [1.000 mA, 300.000 mA], resistor: 661.333 mOhm\n",
      "Vdrop swing: [661.333 μV, 198.400 mV]\n",
      "Vout swing: [16.533 mV, 4.960 V]\n",
      "Steps for v_out_min: 13.544106666666668\n",
      "Error range: [3.0889423743270106,0.20026375843960031]%\n"
     ]
    }
   ],
   "source": [
    "calc_range(1e-3, 300e-3)"
   ]
  },
  {
   "cell_type": "code",
   "execution_count": 10,
   "metadata": {},
   "outputs": [],
   "source": [
    "# ==========================="
   ]
  },
  {
   "cell_type": "code",
   "execution_count": 11,
   "metadata": {},
   "outputs": [
    {
     "name": "stdout",
     "output_type": "stream",
     "text": [
      "Range: [100.000 μA, 10.000 mA], resistor: 20.000 Ohm\n",
      "Vdrop swing: [2.000 mV, 200.000 mV]\n",
      "Vout swing: [50.000 mV, 5.000 V]\n",
      "Steps for v_out_min: 40.96\n",
      "Error range: [1.0387036820641102,0.20025955790901304]%\n"
     ]
    }
   ],
   "source": [
    "info_for_range(100e-6, 10e-3, 20)"
   ]
  },
  {
   "cell_type": "code",
   "execution_count": 12,
   "metadata": {},
   "outputs": [
    {
     "name": "stdout",
     "output_type": "stream",
     "text": [
      "Range: [1.000 mA, 300.000 mA], resistor: 660.000 mOhm\n",
      "Vdrop swing: [660.000 μV, 198.000 mV]\n",
      "Vout swing: [16.500 mV, 4.950 V]\n",
      "Steps for v_out_min: 13.5168\n",
      "Error range: [3.0951565277764983,0.20026482450138747]%\n"
     ]
    }
   ],
   "source": [
    "info_for_range(1e-3, 300e-3, 660e-3)"
   ]
  },
  {
   "cell_type": "code",
   "execution_count": null,
   "metadata": {},
   "outputs": [],
   "source": []
  },
  {
   "cell_type": "code",
   "execution_count": null,
   "metadata": {},
   "outputs": [],
   "source": []
  }
 ],
 "metadata": {
  "kernelspec": {
   "display_name": "Python 3",
   "language": "python",
   "name": "python3"
  },
  "language_info": {
   "codemirror_mode": {
    "name": "ipython",
    "version": 3
   },
   "file_extension": ".py",
   "mimetype": "text/x-python",
   "name": "python",
   "nbconvert_exporter": "python",
   "pygments_lexer": "ipython3",
   "version": "3.7.5"
  }
 },
 "nbformat": 4,
 "nbformat_minor": 2
}
